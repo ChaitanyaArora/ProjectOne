{
  "nbformat": 4,
  "nbformat_minor": 0,
  "metadata": {
    "colab": {
      "name": "Project.ipynb",
      "provenance": [],
      "authorship_tag": "ABX9TyMgYUQ4GIDhIBJ8BggAPY6D",
      "include_colab_link": true
    },
    "kernelspec": {
      "name": "python3",
      "display_name": "Python 3"
    },
    "language_info": {
      "name": "python"
    }
  },
  "cells": [
    {
      "cell_type": "markdown",
      "metadata": {
        "id": "view-in-github",
        "colab_type": "text"
      },
      "source": [
        "<a href=\"https://colab.research.google.com/github/chaitanyaArora/ProjectOne/blob/main/Project.ipynb\" target=\"_parent\"><img src=\"https://colab.research.google.com/assets/colab-badge.svg\" alt=\"Open In Colab\"/></a>"
      ]
    },
    {
      "cell_type": "code",
      "execution_count": 4,
      "metadata": {
        "colab": {
          "base_uri": "https://localhost:8080/",
          "height": 235
        },
        "id": "FPvd7eH7VWyu",
        "outputId": "c92a024b-1aa6-4aa1-8d75-a0e0fdd2eb94"
      },
      "outputs": [
        {
          "output_type": "error",
          "ename": "FileNotFoundError",
          "evalue": "ignored",
          "traceback": [
            "\u001b[0;31m---------------------------------------------------------------------------\u001b[0m",
            "\u001b[0;31mFileNotFoundError\u001b[0m                         Traceback (most recent call last)",
            "\u001b[0;32m<ipython-input-4-657dae51a261>\u001b[0m in \u001b[0;36m<module>\u001b[0;34m()\u001b[0m\n\u001b[1;32m     28\u001b[0m \u001b[0;34m\u001b[0m\u001b[0m\n\u001b[1;32m     29\u001b[0m \u001b[0;34m\u001b[0m\u001b[0m\n\u001b[0;32m---> 30\u001b[0;31m \u001b[0mdata\u001b[0m \u001b[0;34m=\u001b[0m \u001b[0mopen\u001b[0m\u001b[0;34m(\u001b[0m\u001b[0;34m\"cows_and_wolves.txt\"\u001b[0m\u001b[0;34m)\u001b[0m\u001b[0;34m.\u001b[0m\u001b[0mread\u001b[0m\u001b[0;34m(\u001b[0m\u001b[0;34m)\u001b[0m\u001b[0;34m\u001b[0m\u001b[0;34m\u001b[0m\u001b[0m\n\u001b[0m\u001b[1;32m     31\u001b[0m \u001b[0mdata\u001b[0m \u001b[0;34m=\u001b[0m \u001b[0;34m[\u001b[0m\u001b[0mrow\u001b[0m\u001b[0;34m.\u001b[0m\u001b[0msplit\u001b[0m\u001b[0;34m(\u001b[0m\u001b[0;34m'\\t'\u001b[0m\u001b[0;34m)\u001b[0m \u001b[0;32mfor\u001b[0m \u001b[0mrow\u001b[0m \u001b[0;32min\u001b[0m \u001b[0mdata\u001b[0m\u001b[0;34m.\u001b[0m\u001b[0mstrip\u001b[0m\u001b[0;34m(\u001b[0m\u001b[0;34m)\u001b[0m\u001b[0;34m.\u001b[0m\u001b[0msplit\u001b[0m\u001b[0;34m(\u001b[0m\u001b[0;34m'\\n'\u001b[0m\u001b[0;34m)\u001b[0m\u001b[0;34m]\u001b[0m\u001b[0;34m\u001b[0m\u001b[0;34m\u001b[0m\u001b[0m\n\u001b[1;32m     32\u001b[0m \u001b[0;34m\u001b[0m\u001b[0m\n",
            "\u001b[0;31mFileNotFoundError\u001b[0m: [Errno 2] No such file or directory: 'cows_and_wolves.txt'"
          ]
        }
      ],
      "source": [
        "def plot_results_with_hyperplane(clf, clf_name, df, plt_nmbr):\n",
        "    x_min, x_max = df.x.min() - .5, df.x.max() + .5\n",
        "    y_min, y_max = df.y.min() - .5, df.y.max() + .5\n",
        "\n",
        "    # step between points. i.e. [0, 0.02, 0.04, ...]\n",
        "    step = .02\n",
        "    # to plot the boundary, we're going to create a matrix of every possible point\n",
        "    # then label each point as a wolf or cow using our classifier\n",
        "    xx, yy = np.meshgrid(np.arange(x_min, x_max, step), np.arange(y_min, y_max, step))\n",
        "    Z = clf.predict(np.c_[xx.ravel(), yy.ravel()])\n",
        "    # this gets our predictions back into a matrix\n",
        "    Z = Z.reshape(xx.shape)\n",
        "\n",
        "    # create a subplot (we're going to have more than 1 plot on a given image)\n",
        "    pl.subplot(2, 2, plt_nmbr)\n",
        "    # plot the boundaries\n",
        "    pl.pcolormesh(xx, yy, Z, cmap=pl.cm.Paired)\n",
        "\n",
        "    # plot the wolves and cows\n",
        "    for animal in df.animal.unique():\n",
        "        pl.scatter(df[df.animal==animal].x,\n",
        "                   df[df.animal==animal].y,\n",
        "                   marker=animal,\n",
        "                   label=\"cows\" if animal==\"x\" else \"wolves\",\n",
        "                   color='black')\n",
        "    pl.title(clf_name)\n",
        "    pl.legend(loc=\"best\")\n",
        "\n",
        "\n",
        "data = open(\"cows_and_wolves.txt\").read()\n",
        "data = [row.split('\\t') for row in data.strip().split('\\n')]\n",
        "\n",
        "animals = []\n",
        "for y, row in enumerate(data):\n",
        "    for x, item in enumerate(row):\n",
        "        # x's are cows, o's are wolves\n",
        "        if item in ['o', 'x']:\n",
        "            animals.append([x, y, item])\n",
        "\n",
        "df = pd.DataFrame(animals, columns=[\"x\", \"y\", \"animal\"])\n",
        "df['animal_type'] = df.animal.apply(lambda x: 0 if x==\"x\" else 1)\n",
        "\n",
        "# train using the x and y position coordiantes\n",
        "train_cols = [\"x\", \"y\"]\n",
        "\n",
        "clfs = {\n",
        "    \"SVM\": svm.SVC(),\n",
        "    \"Logistic\" : linear_model.LogisticRegression(),\n",
        "    \"Decision Tree\": tree.DecisionTreeClassifier(),\n",
        "}\n",
        "\n",
        "plt_nmbr = 1\n",
        "for clf_name, clf in clfs.iteritems():\n",
        "    clf.fit(df[train_cols], df.animal_type)\n",
        "    plot_results_with_hyperplane(clf, clf_name, df, plt_nmbr)\n",
        "    plt_nmbr += 1\n",
        "pl.show()"
      ]
    },
    {
      "cell_type": "code",
      "source": [
        "import numpy as np\n",
        "import pylab as pl\n",
        "from sklearn import svm\n",
        "from sklearn import linear_model\n",
        "from sklearn import tree\n",
        "import pandas as pd\n"
      ],
      "metadata": {
        "id": "o32_c0phWn48"
      },
      "execution_count": 2,
      "outputs": []
    }
  ]
}